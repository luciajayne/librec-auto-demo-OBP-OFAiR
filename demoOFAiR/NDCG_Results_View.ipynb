{
 "cells": [
  {
   "cell_type": "code",
   "execution_count": 6,
   "id": "7160fe6d",
   "metadata": {},
   "outputs": [],
   "source": [
    "import pandas as pd\n",
    "import numpy as np\n",
    "import pickle"
   ]
  },
  {
   "cell_type": "code",
   "execution_count": 14,
   "id": "a78f6523",
   "metadata": {},
   "outputs": [],
   "source": [
    "df = pd.read_csv(\"exp00000/original/out-2.txt\",header=None)\n",
    "\n",
    "#df[2] = (df[2]-df[2].min())/(df[2].max()-df[2].min())*5\n",
    "\n",
    "#df[2] = np.round(df[2],0)"
   ]
  },
  {
   "cell_type": "code",
   "execution_count": 15,
   "id": "d15d2b71",
   "metadata": {},
   "outputs": [
    {
     "data": {
      "text/html": [
       "<div>\n",
       "<style scoped>\n",
       "    .dataframe tbody tr th:only-of-type {\n",
       "        vertical-align: middle;\n",
       "    }\n",
       "\n",
       "    .dataframe tbody tr th {\n",
       "        vertical-align: top;\n",
       "    }\n",
       "\n",
       "    .dataframe thead th {\n",
       "        text-align: right;\n",
       "    }\n",
       "</style>\n",
       "<table border=\"1\" class=\"dataframe\">\n",
       "  <thead>\n",
       "    <tr style=\"text-align: right;\">\n",
       "      <th></th>\n",
       "      <th>0</th>\n",
       "      <th>1</th>\n",
       "      <th>2</th>\n",
       "    </tr>\n",
       "  </thead>\n",
       "  <tbody>\n",
       "    <tr>\n",
       "      <th>count</th>\n",
       "      <td>6710.000000</td>\n",
       "      <td>6710.000000</td>\n",
       "      <td>6710.000000</td>\n",
       "    </tr>\n",
       "    <tr>\n",
       "      <th>mean</th>\n",
       "      <td>336.000000</td>\n",
       "      <td>15360.691505</td>\n",
       "      <td>6.938705</td>\n",
       "    </tr>\n",
       "    <tr>\n",
       "      <th>std</th>\n",
       "      <td>193.715236</td>\n",
       "      <td>25207.104186</td>\n",
       "      <td>1.202075</td>\n",
       "    </tr>\n",
       "    <tr>\n",
       "      <th>min</th>\n",
       "      <td>1.000000</td>\n",
       "      <td>178.000000</td>\n",
       "      <td>3.769335</td>\n",
       "    </tr>\n",
       "    <tr>\n",
       "      <th>25%</th>\n",
       "      <td>168.000000</td>\n",
       "      <td>1563.000000</td>\n",
       "      <td>6.142086</td>\n",
       "    </tr>\n",
       "    <tr>\n",
       "      <th>50%</th>\n",
       "      <td>336.000000</td>\n",
       "      <td>4727.000000</td>\n",
       "      <td>6.804056</td>\n",
       "    </tr>\n",
       "    <tr>\n",
       "      <th>75%</th>\n",
       "      <td>504.000000</td>\n",
       "      <td>9010.000000</td>\n",
       "      <td>7.541528</td>\n",
       "    </tr>\n",
       "    <tr>\n",
       "      <th>max</th>\n",
       "      <td>671.000000</td>\n",
       "      <td>127728.000000</td>\n",
       "      <td>13.578804</td>\n",
       "    </tr>\n",
       "  </tbody>\n",
       "</table>\n",
       "</div>"
      ],
      "text/plain": [
       "                 0              1            2\n",
       "count  6710.000000    6710.000000  6710.000000\n",
       "mean    336.000000   15360.691505     6.938705\n",
       "std     193.715236   25207.104186     1.202075\n",
       "min       1.000000     178.000000     3.769335\n",
       "25%     168.000000    1563.000000     6.142086\n",
       "50%     336.000000    4727.000000     6.804056\n",
       "75%     504.000000    9010.000000     7.541528\n",
       "max     671.000000  127728.000000    13.578804"
      ]
     },
     "execution_count": 15,
     "metadata": {},
     "output_type": "execute_result"
    }
   ],
   "source": [
    "df.describe()"
   ]
  },
  {
   "cell_type": "code",
   "execution_count": 16,
   "id": "8a8a4b61",
   "metadata": {},
   "outputs": [],
   "source": [
    "df.to_csv(\"exp00000/original/out-2.txt\",sep=\"\\t\",header=None,index=False)"
   ]
  },
  {
   "cell_type": "code",
   "execution_count": 17,
   "id": "a52dcd60",
   "metadata": {},
   "outputs": [
    {
     "data": {
      "text/plain": [
       "0.9882660419430387"
      ]
     },
     "execution_count": 17,
     "metadata": {},
     "output_type": "execute_result"
    }
   ],
   "source": [
    "with open(\".\\exp00000\\\\result\\py-eval-temp.pickle\", 'rb') as file:\n",
    "    result = pickle.load(file)\n",
    "file.close()\n",
    "result"
   ]
  },
  {
   "cell_type": "code",
   "execution_count": null,
   "id": "17289139",
   "metadata": {},
   "outputs": [],
   "source": [
    "result\n",
    "\n",
    "    "
   ]
  }
 ],
 "metadata": {
  "kernelspec": {
   "display_name": "vbigdata",
   "language": "python",
   "name": "vbigdata"
  },
  "language_info": {
   "codemirror_mode": {
    "name": "ipython",
    "version": 3
   },
   "file_extension": ".py",
   "mimetype": "text/x-python",
   "name": "python",
   "nbconvert_exporter": "python",
   "pygments_lexer": "ipython3",
   "version": "3.7.6"
  }
 },
 "nbformat": 4,
 "nbformat_minor": 5
}
