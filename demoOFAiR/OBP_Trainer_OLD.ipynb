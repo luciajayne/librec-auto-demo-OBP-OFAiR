{
 "cells": [
  {
   "cell_type": "code",
   "execution_count": 7,
   "id": "fd412aa4",
   "metadata": {},
   "outputs": [],
   "source": [
    "from sklearn.datasets import load_digits\n",
    "from sklearn.ensemble import RandomForestClassifier as RandomForest\n",
    "from sklearn.linear_model import LogisticRegression\n",
    "import pandas as pd\n",
    "import numpy as np\n",
    "import pickle\n",
    "\n",
    "# import open bandit pipeline (obp)\n",
    "import obp\n",
    "from obp.policy import (\n",
    "    IPWLearner, \n",
    "    QLearner,\n",
    "    NNPolicyLearner, \n",
    "    Random\n",
    ")"
   ]
  },
  {
   "cell_type": "code",
   "execution_count": 6,
   "id": "9594011f",
   "metadata": {},
   "outputs": [
    {
     "data": {
      "text/plain": [
       "'/Users/luciajayne/LuciaLocal/librec-auto-demo2021-main/demoOFAiR'"
      ]
     },
     "execution_count": 6,
     "metadata": {},
     "output_type": "execute_result"
    }
   ],
   "source": [
    "import os\n",
    "os.getcwd()"
   ]
  },
  {
   "cell_type": "code",
   "execution_count": 8,
   "id": "fd5b4202",
   "metadata": {},
   "outputs": [],
   "source": [
    "reranked_output_file = './exp00000/result/out-1.txt' #need a double for slash before r (carriage return)\n",
    "item_feature_file = '../dataOFAiR/item-features.csv'"
   ]
  },
  {
   "cell_type": "code",
   "execution_count": 9,
   "id": "28826995",
   "metadata": {},
   "outputs": [],
   "source": [
    "def ipw_train_learner(context,actions,max_iter=5000):\n",
    "    \n",
    "    # define NNPolicyLearner with IPW as its objective function\n",
    "    ipw_rf = IPWLearner(\n",
    "        n_actions=len(actions),\n",
    "        base_classifier = LogisticRegression(random_state=0,max_iter=5000,C=500).fit(context, actions)\n",
    "        \n",
    "        #base_classifier=RandomForest(\n",
    "        #n_estimators=30, min_samples_leaf=10, random_state=12345\n",
    "        #)\n",
    "    )\n",
    "\n",
    "\n",
    "    rewards = np.ones(len(context))\n",
    "\n",
    "    # train NNPolicyLearner on the training set of logged bandit data\n",
    "    ipw_rf.fit(\n",
    "        context=context,\n",
    "        action=actions,\n",
    "        reward=rewards\n",
    "    )\n",
    "    \n",
    "    return ipw_rf\n",
    "\n",
    "def agg_fnc(x):\n",
    "    d = []\n",
    "    d.append(','.join(map(str,x[\"itemID\"])))\n",
    "    d.append(','.join(map(str,x[\"rating\"])))\n",
    "    return pd.Series(d,index=[\"L\",\"L_rating\"])\n",
    "             "
   ]
  },
  {
   "cell_type": "code",
   "execution_count": 10,
   "id": "c9bd13bd",
   "metadata": {},
   "outputs": [
    {
     "data": {
      "text/plain": [
       "(       userID  itemID  rating\n",
       " 33549     671    8199     0.0\n",
       " 2099       42   36931     0.0\n",
       " 15199     304     889     0.0\n",
       " 27549     551     670     0.0\n",
       " 15249     305    9010     0.0,\n",
       " (33550, 3))"
      ]
     },
     "execution_count": 10,
     "metadata": {},
     "output_type": "execute_result"
    }
   ],
   "source": [
    "#Read and process data\n",
    "df = pd.read_csv(reranked_output_file,header=None)#[:1000] #only reading the top 1000\n",
    "\n",
    "df_items = pd.read_csv(item_feature_file,header=None)\n",
    "df_items.columns = [\"itemID\",\"condition\",\"num\"]\n",
    "\n",
    "df.columns = ['userID','itemID','rating']\n",
    "df = df.sort_values(by=\"rating\")\n",
    "df.head(),df.shape\n"
   ]
  },
  {
   "cell_type": "code",
   "execution_count": 11,
   "id": "cce308f4",
   "metadata": {},
   "outputs": [
    {
     "data": {
      "text/plain": [
       "50"
      ]
     },
     "execution_count": 11,
     "metadata": {},
     "output_type": "execute_result"
    }
   ],
   "source": [
    "#Create column of lists (L) and expand it into columns\n",
    "df_L = df.groupby('userID')[['itemID','rating']].apply(agg_fnc).reset_index()\n",
    "df_L2 = df_L['L'].str.split(\",\", expand=True)\n",
    "len_list = df_L2.shape[1];len_list"
   ]
  },
  {
   "cell_type": "code",
   "execution_count": 12,
   "id": "ab03c510",
   "metadata": {},
   "outputs": [],
   "source": [
    "#Create action, position, and context\n",
    "# actions = itemID\n",
    "# posisiton = rank in list\n",
    "# context = userID\n",
    "df_L2_stack = df_L2.stack()\n",
    "df_L2_stack.name = \"action\"\n",
    "df_input = df_L2_stack.to_frame().reset_index(level=1).join(df_L[\"userID\"])\n",
    "df_input.columns = ['position','action','context']"
   ]
  },
  {
   "cell_type": "code",
   "execution_count": 13,
   "id": "640eae0f",
   "metadata": {},
   "outputs": [
    {
     "data": {
      "text/html": [
       "<div>\n",
       "<style scoped>\n",
       "    .dataframe tbody tr th:only-of-type {\n",
       "        vertical-align: middle;\n",
       "    }\n",
       "\n",
       "    .dataframe tbody tr th {\n",
       "        vertical-align: top;\n",
       "    }\n",
       "\n",
       "    .dataframe thead th {\n",
       "        text-align: right;\n",
       "    }\n",
       "</style>\n",
       "<table border=\"1\" class=\"dataframe\">\n",
       "  <thead>\n",
       "    <tr style=\"text-align: right;\">\n",
       "      <th></th>\n",
       "      <th>position</th>\n",
       "      <th>action</th>\n",
       "      <th>context</th>\n",
       "    </tr>\n",
       "  </thead>\n",
       "  <tbody>\n",
       "    <tr>\n",
       "      <th>0</th>\n",
       "      <td>0</td>\n",
       "      <td>86817</td>\n",
       "      <td>1</td>\n",
       "    </tr>\n",
       "    <tr>\n",
       "      <th>0</th>\n",
       "      <td>1</td>\n",
       "      <td>39414</td>\n",
       "      <td>1</td>\n",
       "    </tr>\n",
       "    <tr>\n",
       "      <th>0</th>\n",
       "      <td>2</td>\n",
       "      <td>140174</td>\n",
       "      <td>1</td>\n",
       "    </tr>\n",
       "    <tr>\n",
       "      <th>0</th>\n",
       "      <td>3</td>\n",
       "      <td>83361</td>\n",
       "      <td>1</td>\n",
       "    </tr>\n",
       "    <tr>\n",
       "      <th>0</th>\n",
       "      <td>4</td>\n",
       "      <td>5765</td>\n",
       "      <td>1</td>\n",
       "    </tr>\n",
       "    <tr>\n",
       "      <th>...</th>\n",
       "      <td>...</td>\n",
       "      <td>...</td>\n",
       "      <td>...</td>\n",
       "    </tr>\n",
       "    <tr>\n",
       "      <th>670</th>\n",
       "      <td>45</td>\n",
       "      <td>31547</td>\n",
       "      <td>671</td>\n",
       "    </tr>\n",
       "    <tr>\n",
       "      <th>670</th>\n",
       "      <td>46</td>\n",
       "      <td>4930</td>\n",
       "      <td>671</td>\n",
       "    </tr>\n",
       "    <tr>\n",
       "      <th>670</th>\n",
       "      <td>47</td>\n",
       "      <td>31952</td>\n",
       "      <td>671</td>\n",
       "    </tr>\n",
       "    <tr>\n",
       "      <th>670</th>\n",
       "      <td>48</td>\n",
       "      <td>5071</td>\n",
       "      <td>671</td>\n",
       "    </tr>\n",
       "    <tr>\n",
       "      <th>670</th>\n",
       "      <td>49</td>\n",
       "      <td>1563</td>\n",
       "      <td>671</td>\n",
       "    </tr>\n",
       "  </tbody>\n",
       "</table>\n",
       "<p>33550 rows × 3 columns</p>\n",
       "</div>"
      ],
      "text/plain": [
       "     position  action  context\n",
       "0           0   86817        1\n",
       "0           1   39414        1\n",
       "0           2  140174        1\n",
       "0           3   83361        1\n",
       "0           4    5765        1\n",
       "..        ...     ...      ...\n",
       "670        45   31547      671\n",
       "670        46    4930      671\n",
       "670        47   31952      671\n",
       "670        48    5071      671\n",
       "670        49    1563      671\n",
       "\n",
       "[33550 rows x 3 columns]"
      ]
     },
     "execution_count": 13,
     "metadata": {},
     "output_type": "execute_result"
    }
   ],
   "source": [
    "#This must be set to the max from the item dataset\n",
    "#max_actions =df_input['action'].astype(int).max() +1\n",
    "max_actions = df_items['itemID'].astype(int).max() + 1\n",
    "\n",
    "df_input"
   ]
  },
  {
   "cell_type": "code",
   "execution_count": 19,
   "id": "9fff3680",
   "metadata": {},
   "outputs": [],
   "source": [
    "#Define NNPolicyLearner with IPW as its objective function\n",
    "ipw_rf = IPWLearner(\n",
    "    n_actions= max_actions,\n",
    "    base_classifier = RandomForest(n_estimators=1000,random_state=0),\n",
    "    len_list = 50 #default 10\n",
    "    #len_list = len(df_input[\"positions\"].unique()) #number of unique recommendations\n",
    "    )\n",
    "\n",
    "#Convert df_input field to input for the learner\n",
    "context = df_input[\"context\"].astype(int).values.reshape(-1,1)\n",
    "actions = df_input[\"action\"].astype(int).values.reshape(-1,)\n",
    "positions = df_input[\"position\"].astype(int).values.reshape(-1,)\n",
    "rewards = np.ones(df_input.shape[0])\n",
    "context.shape,actions.shape,rewards.shape,positions.shape\n",
    " \n",
    "#Train learner\n",
    "ipw_rf.fit(\n",
    "    context=context,\n",
    "    action=actions,\n",
    "    reward=rewards,\n",
    "    position=positions\n",
    ")"
   ]
  },
  {
   "cell_type": "code",
   "execution_count": 20,
   "id": "ca8e49af",
   "metadata": {},
   "outputs": [
    {
     "data": {
      "text/plain": [
       "(671, 160719, 50)"
      ]
     },
     "execution_count": 20,
     "metadata": {},
     "output_type": "execute_result"
    }
   ],
   "source": [
    "#Make prediction  - for testing\n",
    "#Looking at all the users. To see if it can handle all the users.\n",
    "all_users = np.unique(df_L[\"userID\"]).reshape(-1,1)\n",
    "results = ipw_rf.predict(context=all_users)\n",
    "results.shape #size of the data stored in the learner"
   ]
  },
  {
   "cell_type": "code",
   "execution_count": 21,
   "id": "251bb254",
   "metadata": {},
   "outputs": [
    {
     "data": {
      "text/plain": [
       "array([ 86817,  39414, 140174,  83361,   5765,   8899,    876,     99,\n",
       "        27724,  80717,   5051, 107978,   4459,   2620,   2927,  42632,\n",
       "        31547,  86000,   4235,    389,  64278,  48791,   4566,  26797,\n",
       "         2284,   5646,   7484,   3576,    559,    845,  73290,  26171,\n",
       "        25752,  25764,   2636,   4201,    966,   4518,   1859,   4252,\n",
       "         8420,   5062,  48301,   4437,  31952,  31116,   8208,   5071,\n",
       "         1819,   1563])"
      ]
     },
     "execution_count": 21,
     "metadata": {},
     "output_type": "execute_result"
    }
   ],
   "source": [
    "#Transform results to list(L)\n",
    "#how long it takes to one user\n",
    "results[0].T.argmax(axis=1)"
   ]
  },
  {
   "cell_type": "code",
   "execution_count": 22,
   "id": "e9492926",
   "metadata": {},
   "outputs": [
    {
     "data": {
      "text/html": [
       "<div>\n",
       "<style scoped>\n",
       "    .dataframe tbody tr th:only-of-type {\n",
       "        vertical-align: middle;\n",
       "    }\n",
       "\n",
       "    .dataframe tbody tr th {\n",
       "        vertical-align: top;\n",
       "    }\n",
       "\n",
       "    .dataframe thead th {\n",
       "        text-align: right;\n",
       "    }\n",
       "</style>\n",
       "<table border=\"1\" class=\"dataframe\">\n",
       "  <thead>\n",
       "    <tr style=\"text-align: right;\">\n",
       "      <th></th>\n",
       "      <th>userID</th>\n",
       "      <th>L</th>\n",
       "      <th>L_rating</th>\n",
       "    </tr>\n",
       "  </thead>\n",
       "  <tbody>\n",
       "    <tr>\n",
       "      <th>0</th>\n",
       "      <td>1</td>\n",
       "      <td>86817,39414,140174,83361,5765,8899,876,99,2772...</td>\n",
       "      <td>0.0,0.0060840143886695,0.0120846810711471,0.01...</td>\n",
       "    </tr>\n",
       "    <tr>\n",
       "      <th>1</th>\n",
       "      <td>2</td>\n",
       "      <td>4232,8899,5051,37857,214,26251,820,39414,309,7...</td>\n",
       "      <td>0.0,0.0045460211417753,0.0094039757291869,0.01...</td>\n",
       "    </tr>\n",
       "    <tr>\n",
       "      <th>2</th>\n",
       "      <td>3</td>\n",
       "      <td>40226,26152,1945,5460,4252,1546,64278,309,4879...</td>\n",
       "      <td>0.0,0.0046877527981084,0.0086959450327293,0.01...</td>\n",
       "    </tr>\n",
       "    <tr>\n",
       "      <th>3</th>\n",
       "      <td>4</td>\n",
       "      <td>309,83827,4252,64900,48791,50658,3036,876,8675...</td>\n",
       "      <td>0.0,0.0058205519149359,0.0118411276396502,0.01...</td>\n",
       "    </tr>\n",
       "    <tr>\n",
       "      <th>4</th>\n",
       "      <td>5</td>\n",
       "      <td>2636,1281,4518,8938,2284,4252,64900,2927,26171...</td>\n",
       "      <td>0.0,0.0047734555100379,0.0100955365811297,0.01...</td>\n",
       "    </tr>\n",
       "    <tr>\n",
       "      <th>...</th>\n",
       "      <td>...</td>\n",
       "      <td>...</td>\n",
       "      <td>...</td>\n",
       "    </tr>\n",
       "    <tr>\n",
       "      <th>666</th>\n",
       "      <td>667</td>\n",
       "      <td>83827,73290,5765,4566,4232,52767,559,8899,5051...</td>\n",
       "      <td>0.0,0.0061835909057236,0.011923783901765,0.017...</td>\n",
       "    </tr>\n",
       "    <tr>\n",
       "      <th>667</th>\n",
       "      <td>668</td>\n",
       "      <td>83827,1945,37731,8275,86817,52767,820,50658,22...</td>\n",
       "      <td>0.0,0.0063279314242814,0.0130862530312499,0.01...</td>\n",
       "    </tr>\n",
       "    <tr>\n",
       "      <th>668</th>\n",
       "      <td>669</td>\n",
       "      <td>3021,6963,107978,8899,1450,582,5765,37857,2679...</td>\n",
       "      <td>0.0,0.0060960190036755,0.013304707787738,0.019...</td>\n",
       "    </tr>\n",
       "    <tr>\n",
       "      <th>669</th>\n",
       "      <td>670</td>\n",
       "      <td>107978,26258,25774,7484,1933,582,8699,5765,889...</td>\n",
       "      <td>0.0,0.0057961401200287,0.0126646447647999,0.02...</td>\n",
       "    </tr>\n",
       "    <tr>\n",
       "      <th>670</th>\n",
       "      <td>671</td>\n",
       "      <td>8199,603,64278,4566,99,86817,48791,8899,36931,...</td>\n",
       "      <td>0.0,0.0058097327609732,0.0127216301672623,0.01...</td>\n",
       "    </tr>\n",
       "  </tbody>\n",
       "</table>\n",
       "<p>671 rows × 3 columns</p>\n",
       "</div>"
      ],
      "text/plain": [
       "     userID                                                  L  \\\n",
       "0         1  86817,39414,140174,83361,5765,8899,876,99,2772...   \n",
       "1         2  4232,8899,5051,37857,214,26251,820,39414,309,7...   \n",
       "2         3  40226,26152,1945,5460,4252,1546,64278,309,4879...   \n",
       "3         4  309,83827,4252,64900,48791,50658,3036,876,8675...   \n",
       "4         5  2636,1281,4518,8938,2284,4252,64900,2927,26171...   \n",
       "..      ...                                                ...   \n",
       "666     667  83827,73290,5765,4566,4232,52767,559,8899,5051...   \n",
       "667     668  83827,1945,37731,8275,86817,52767,820,50658,22...   \n",
       "668     669  3021,6963,107978,8899,1450,582,5765,37857,2679...   \n",
       "669     670  107978,26258,25774,7484,1933,582,8699,5765,889...   \n",
       "670     671  8199,603,64278,4566,99,86817,48791,8899,36931,...   \n",
       "\n",
       "                                              L_rating  \n",
       "0    0.0,0.0060840143886695,0.0120846810711471,0.01...  \n",
       "1    0.0,0.0045460211417753,0.0094039757291869,0.01...  \n",
       "2    0.0,0.0046877527981084,0.0086959450327293,0.01...  \n",
       "3    0.0,0.0058205519149359,0.0118411276396502,0.01...  \n",
       "4    0.0,0.0047734555100379,0.0100955365811297,0.01...  \n",
       "..                                                 ...  \n",
       "666  0.0,0.0061835909057236,0.011923783901765,0.017...  \n",
       "667  0.0,0.0063279314242814,0.0130862530312499,0.01...  \n",
       "668  0.0,0.0060960190036755,0.013304707787738,0.019...  \n",
       "669  0.0,0.0057961401200287,0.0126646447647999,0.02...  \n",
       "670  0.0,0.0058097327609732,0.0127216301672623,0.01...  \n",
       "\n",
       "[671 rows x 3 columns]"
      ]
     },
     "execution_count": 22,
     "metadata": {},
     "output_type": "execute_result"
    }
   ],
   "source": [
    "df_L"
   ]
  },
  {
   "cell_type": "code",
   "execution_count": 23,
   "id": "4ce8509b",
   "metadata": {},
   "outputs": [],
   "source": [
    "#To Do: load prev saved reranking file\n",
    "#with open('OBP_RERANKERS.pickle','rb') as f:\n",
    "#    learner2,df_L2 = pickle.load(f)\n",
    "\n",
    "rerank_dict = {}\n",
    "rerank_dict[\"OFAiR\"] = (ipw_rf,df_L) \n",
    "with open('OBP_Rerankers.pickle', 'wb') as f:\n",
    "    pickle.dump(rerank_dict, f)\n",
    "f.close()"
   ]
  },
  {
   "cell_type": "code",
   "execution_count": null,
   "id": "d920e1d8",
   "metadata": {},
   "outputs": [],
   "source": []
  }
 ],
 "metadata": {
  "kernelspec": {
   "display_name": "Python 3 (ipykernel)",
   "language": "python",
   "name": "python3"
  },
  "language_info": {
   "codemirror_mode": {
    "name": "ipython",
    "version": 3
   },
   "file_extension": ".py",
   "mimetype": "text/x-python",
   "name": "python",
   "nbconvert_exporter": "python",
   "pygments_lexer": "ipython3",
   "version": "3.9.7"
  }
 },
 "nbformat": 4,
 "nbformat_minor": 5
}
