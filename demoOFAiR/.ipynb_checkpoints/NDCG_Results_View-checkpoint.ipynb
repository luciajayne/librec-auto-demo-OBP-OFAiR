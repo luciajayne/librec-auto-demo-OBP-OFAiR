{
 "cells": [
  {
   "cell_type": "code",
   "execution_count": null,
   "id": "7160fe6d",
   "metadata": {},
   "outputs": [],
   "source": [
    "import pandas as pd\n",
    "import numpy as np\n",
    "import pickle"
   ]
  },
  {
   "cell_type": "code",
   "execution_count": null,
   "id": "a78f6523",
   "metadata": {},
   "outputs": [],
   "source": [
    "df = pd.read_csv(\"demoOFAiR/original/out-1.txt\",header=None)\n",
    "\n",
    "#df[2] = (df[2]-df[2].min())/(df[2].max()-df[2].min())*5\n",
    "\n",
    "#df[2] = np.round(df[2],0)"
   ]
  },
  {
   "cell_type": "code",
   "execution_count": null,
   "id": "d15d2b71",
   "metadata": {},
   "outputs": [],
   "source": [
    "df.describe()"
   ]
  },
  {
   "cell_type": "code",
   "execution_count": null,
   "id": "8a8a4b61",
   "metadata": {},
   "outputs": [],
   "source": [
    "df.to_csv(\"demoOFAiR/original/out-1.txt\",sep=\"\\t\",header=None,index=False)"
   ]
  },
  {
   "cell_type": "code",
   "execution_count": null,
   "id": "17289139",
   "metadata": {},
   "outputs": [],
   "source": [
    "with open(\"demoOFAiR/result/py-eval-temp.pickle\", 'rb') as file:\n",
    "    result = pickle.load(file)\n",
    "file.close()\n",
    "\n",
    "result\n",
    "\n",
    "    "
   ]
  }
 ],
 "metadata": {
  "kernelspec": {
   "display_name": "vbigdata",
   "language": "python",
   "name": "vbigdata"
  },
  "language_info": {
   "codemirror_mode": {
    "name": "ipython",
    "version": 3
   },
   "file_extension": ".py",
   "mimetype": "text/x-python",
   "name": "python",
   "nbconvert_exporter": "python",
   "pygments_lexer": "ipython3",
   "version": "3.7.6"
  }
 },
 "nbformat": 4,
 "nbformat_minor": 5
}
