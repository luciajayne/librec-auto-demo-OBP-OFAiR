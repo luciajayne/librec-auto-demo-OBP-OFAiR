{
 "cells": [
  {
   "cell_type": "code",
   "execution_count": 2,
   "id": "a70b63b4",
   "metadata": {},
   "outputs": [],
   "source": [
    "import pandas as pd\n",
    "import numpy as np\n",
    "import datetime as dt"
   ]
  },
  {
   "cell_type": "markdown",
   "id": "586627fd",
   "metadata": {},
   "source": [
    "**Read Datasets**"
   ]
  },
  {
   "cell_type": "code",
   "execution_count": 3,
   "id": "467e78e0",
   "metadata": {},
   "outputs": [
    {
     "name": "stderr",
     "output_type": "stream",
     "text": [
      "d:\\pycharm\\bigdata\\vbigdata\\lib\\site-packages\\IPython\\core\\interactiveshell.py:3457: DtypeWarning: Columns (10) have mixed types.Specify dtype option on import or set low_memory=False.\n",
      "  exec(code_obj, self.user_global_ns, self.user_ns)\n"
     ]
    }
   ],
   "source": [
    "df_movies = pd.read_csv(\"archive/movies_metadata.csv\")\n",
    "df_ratings = pd.read_csv(\"archive/ratings_small.csv\")"
   ]
  },
  {
   "cell_type": "code",
   "execution_count": 5,
   "id": "f5904cdf",
   "metadata": {},
   "outputs": [
    {
     "data": {
      "text/plain": [
       "(100004, 4)"
      ]
     },
     "execution_count": 5,
     "metadata": {},
     "output_type": "execute_result"
    }
   ],
   "source": [
    "df_ratings.shape"
   ]
  },
  {
   "cell_type": "code",
   "execution_count": 4,
   "id": "f017e821",
   "metadata": {},
   "outputs": [
    {
     "data": {
      "text/plain": [
       "(45466, 24)"
      ]
     },
     "execution_count": 4,
     "metadata": {},
     "output_type": "execute_result"
    }
   ],
   "source": [
    "df_movies.shape"
   ]
  },
  {
   "cell_type": "code",
   "execution_count": 5,
   "id": "5b29fb6b",
   "metadata": {},
   "outputs": [
    {
     "data": {
      "text/plain": [
       "(Index(['adult', 'belongs_to_collection', 'budget', 'genres', 'homepage', 'id',\n",
       "        'imdb_id', 'original_language', 'original_title', 'overview',\n",
       "        'popularity', 'poster_path', 'production_companies',\n",
       "        'production_countries', 'release_date', 'revenue', 'runtime',\n",
       "        'spoken_languages', 'status', 'tagline', 'title', 'video',\n",
       "        'vote_average', 'vote_count'],\n",
       "       dtype='object'),\n",
       " adult                     object\n",
       " belongs_to_collection     object\n",
       " budget                    object\n",
       " genres                    object\n",
       " homepage                  object\n",
       " id                        object\n",
       " imdb_id                   object\n",
       " original_language         object\n",
       " original_title            object\n",
       " overview                  object\n",
       " popularity                object\n",
       " poster_path               object\n",
       " production_companies      object\n",
       " production_countries      object\n",
       " release_date              object\n",
       " revenue                  float64\n",
       " runtime                  float64\n",
       " spoken_languages          object\n",
       " status                    object\n",
       " tagline                   object\n",
       " title                     object\n",
       " video                     object\n",
       " vote_average             float64\n",
       " vote_count               float64\n",
       " dtype: object)"
      ]
     },
     "execution_count": 5,
     "metadata": {},
     "output_type": "execute_result"
    }
   ],
   "source": [
    "df_movies.columns,df_movies.dtypes"
   ]
  },
  {
   "cell_type": "code",
   "execution_count": 6,
   "id": "b59db3ec",
   "metadata": {},
   "outputs": [],
   "source": [
    "#Clean the data\n",
    "df_ratings = df_ratings.drop(\"timestamp\",axis=1)\n",
    "df_ratings[\"rating\"] = df_ratings[\"rating\"].astype(\"int\")\n",
    "df_movies = df_movies[df_movies[\"id\"].str.isnumeric()]\n",
    "df_movies[\"id\"] = df_movies[\"id\"].astype(\"int\")\n",
    "\n",
    "#How should we populate missing dates???\n",
    "df_movies.release_date = df_movies.release_date.fillna('1989-12-31')\n",
    "df_movies = df_movies.drop(df_movies[pd.to_datetime(df_movies.release_date,errors=\"coerce\").isna()].index)\n",
    "df_movies.release_date = pd.to_datetime(df_movies.release_date)\n"
   ]
  },
  {
   "cell_type": "code",
   "execution_count": 7,
   "id": "0f6e5e62",
   "metadata": {},
   "outputs": [],
   "source": [
    "#Merge the two datasets using an inner to prevent orphaned ids??\n",
    "df_movies = df_movies.merge(df_ratings,left_on=\"id\",right_on=\"movieId\",how=\"inner\")"
   ]
  },
  {
   "cell_type": "code",
   "execution_count": 6,
   "id": "ebd1caa2",
   "metadata": {},
   "outputs": [
    {
     "data": {
      "text/plain": [
       "(45466, 24)"
      ]
     },
     "execution_count": 6,
     "metadata": {},
     "output_type": "execute_result"
    }
   ],
   "source": [
    "df_movies.shape"
   ]
  },
  {
   "cell_type": "code",
   "execution_count": 9,
   "id": "f2851644",
   "metadata": {},
   "outputs": [],
   "source": [
    "#Create the ratings.csv for librec-auto\n",
    "df_ratings = df_movies[[\"userId\",\"movieId\",\"rating\"]]\n",
    "df_ratings.to_csv(\"ratings.csv\",index=None,header=False)"
   ]
  },
  {
   "cell_type": "code",
   "execution_count": 10,
   "id": "eebf59bd",
   "metadata": {},
   "outputs": [],
   "source": [
    "#creating the protected feature bins\n",
    "avg_vote = df_movies.vote_count.mean()\n",
    "avg_rev = df_movies.revenue.mean()\n",
    "avg_runtime = df_movies.runtime.mean()\n",
    "cutoff_date = dt.datetime.strptime(\"1990\",\"%Y\")"
   ]
  },
  {
   "cell_type": "code",
   "execution_count": 11,
   "id": "6aae79c4",
   "metadata": {},
   "outputs": [],
   "source": [
    "#create dummies for each protected feature\n",
    "df_pop = pd.get_dummies(df_movies.vote_count.transform( lambda x: \"popular\" if x >= avg_vote else \"unpopular\"))\n",
    "df_date =  pd.get_dummies(df_movies.release_date.transform( lambda x: \"old\" if x >= cutoff_date else \"new\"))\n",
    "df_rev =  pd.get_dummies(df_movies.revenue.transform( lambda x: \"higher_revenue\" if x >= avg_rev else \"lower_revenue\"))\n",
    "df_len =  pd.get_dummies(df_movies.runtime.transform( lambda x: \"longer\" if x >= avg_runtime else \"short\"))"
   ]
  },
  {
   "cell_type": "code",
   "execution_count": 12,
   "id": "1727989b",
   "metadata": {},
   "outputs": [
    {
     "data": {
      "text/plain": [
       "(0          949\n",
       " 1          949\n",
       " 2          949\n",
       " 3          949\n",
       " 4          949\n",
       "          ...  \n",
       " 44989    64197\n",
       " 44990    64197\n",
       " 44991    64197\n",
       " 44992    98604\n",
       " 44993    49280\n",
       " Name: id, Length: 44994, dtype: int32,\n",
       "        new  old\n",
       " 0        0    1\n",
       " 1        0    1\n",
       " 2        0    1\n",
       " 3        0    1\n",
       " 4        0    1\n",
       " ...    ...  ...\n",
       " 44989    0    1\n",
       " 44990    0    1\n",
       " 44991    0    1\n",
       " 44992    0    1\n",
       " 44993    1    0\n",
       " \n",
       " [44994 rows x 2 columns])"
      ]
     },
     "execution_count": 12,
     "metadata": {},
     "output_type": "execute_result"
    }
   ],
   "source": [
    "df_movies.id, df_date"
   ]
  },
  {
   "cell_type": "code",
   "execution_count": null,
   "id": "5cb7e720",
   "metadata": {},
   "outputs": [],
   "source": [
    "#create full item feature table\n",
    "df_item_features = pd.concat([df_movies[\"id\"],df_pop,df_date,df_rev,df_len], axis=1)\n",
    "df_item_features = df_item_features.set_index(\"id\").stack().reset_index()\n",
    "df_item_features.columns = [\"item_id\",\"feature\",\"value\"]\n",
    "df_item_features.shape "
   ]
  },
  {
   "cell_type": "code",
   "execution_count": 17,
   "id": "84fb2938",
   "metadata": {},
   "outputs": [
    {
     "data": {
      "text/plain": [
       "(11320, 3)"
      ]
     },
     "execution_count": 17,
     "metadata": {},
     "output_type": "execute_result"
    }
   ],
   "source": [
    "df_item_features = df_item_features[df_item_features.value == 1]\n",
    "df_item_features = df_item_features.drop_duplicates()\n",
    "df_item_features.shape"
   ]
  },
  {
   "cell_type": "code",
   "execution_count": 99,
   "id": "dabbd778",
   "metadata": {},
   "outputs": [
    {
     "data": {
      "text/plain": [
       "((22640, 3), (0, 3))"
      ]
     },
     "execution_count": 99,
     "metadata": {},
     "output_type": "execute_result"
    }
   ],
   "source": [
    "#Remove duplicates\n",
    "# df_item_features = df_item_features[~df_item_features.duplicated()]\n",
    "# df_item_features[~df_item_features.duplicated()].shape,df_item_features[df_item_features.duplicated()].shape"
   ]
  },
  {
   "cell_type": "code",
   "execution_count": 18,
   "id": "9e6760bc",
   "metadata": {},
   "outputs": [],
   "source": [
    "#Single out specifc feature\n",
    "df_item_features = df_item_features[(df_item_features[\"feature\"]=='old') | (df_item_features[\"feature\"]=='new') ]\n"
   ]
  },
  {
   "cell_type": "code",
   "execution_count": 19,
   "id": "c9588fd2",
   "metadata": {},
   "outputs": [],
   "source": [
    "df_item_features.to_csv(\"item-features.csv\",header=False,index=None)"
   ]
  },
  {
   "cell_type": "code",
   "execution_count": null,
   "id": "32259191",
   "metadata": {},
   "outputs": [],
   "source": []
  }
 ],
 "metadata": {
  "kernelspec": {
   "display_name": "vbigdata",
   "language": "python",
   "name": "vbigdata"
  },
  "language_info": {
   "codemirror_mode": {
    "name": "ipython",
    "version": 3
   },
   "file_extension": ".py",
   "mimetype": "text/x-python",
   "name": "python",
   "nbconvert_exporter": "python",
   "pygments_lexer": "ipython3",
   "version": "3.7.6"
  }
 },
 "nbformat": 4,
 "nbformat_minor": 5
}
